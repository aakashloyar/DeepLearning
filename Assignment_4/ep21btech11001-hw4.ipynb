{
 "cells": [
  {
   "cell_type": "markdown",
   "metadata": {},
   "source": [
    "Aakash\n",
    "\n",
    "EP21BTECH11001\n",
    "\n",
    "HW-4"
   ]
  },
  {
   "cell_type": "code",
   "execution_count": 10,
   "metadata": {},
   "outputs": [],
   "source": [
    "import numpy as np"
   ]
  },
  {
   "cell_type": "code",
   "execution_count": 11,
   "metadata": {},
   "outputs": [],
   "source": [
    "def sigmoid(x):\n",
    "    return 1/(1+np.exp(-x))\n",
    "\n",
    "def tanhx(x):\n",
    "    return np.tanh(x)\n",
    "\n",
    "def relu(x):\n",
    "    return np.maximum(0,x)\n",
    "\n",
    "def prelu(x,alpha=0.1):\n",
    "    return np.where(x>0,x,alpha*x)\n"
   ]
  },
  {
   "cell_type": "code",
   "execution_count": 12,
   "metadata": {},
   "outputs": [],
   "source": [
    "#1. first of all implement convolution function\n",
    "# input: image filter/kernel/stride/padding/non-linear fctn\n",
    "# conventions: image_h/image_w/channels/kernel_h/kernel_w/kernel_channels\n",
    "# checkconditns: channels==kernel_channels/\n",
    "\n",
    "def Convolution(image,kernel,stride,padding,activation):\n",
    "\n",
    "    #add padding first to image with filling 0 to padding cells\n",
    "    image = np.pad(image, ((padding, padding), (padding, padding), (0, 0)), mode='constant')\n",
    "\n",
    "    # size of imputs\n",
    "    image_h,image_w,channels=image.shape\n",
    "    kernel_h,kernel_w,kernel_channels=kernel.shape\n",
    "\n",
    "    # necessary condition check\n",
    "    if kernel_channels!=channels:\n",
    "        raise ValueError(\"Kernel and image must have same no of channels\")\n",
    "\n",
    "    #now getting the output size   \n",
    "    # dimension of output matrix -> (n-l+2p)/s+1 \n",
    "    output_h=((image_h-kernel_h)/stride)+1\n",
    "    output_w=((image_w-kernel_w)/stride)+1\n",
    "    output=np.zeros((output_h,output_w,channels))\n",
    "    for c in range(channels):\n",
    "        for h in range(output_h):\n",
    "            for w in range(output_w):\n",
    "                curr=0\n",
    "                for i in range(kernel_h):\n",
    "                    for j in range(kernel_w):\n",
    "                        curr+=kernel[i][j][c]*image[h+i][w+j][c]\n",
    "                output[h][w][c]=curr\n",
    "\n",
    "    if(activation=='sig'):\n",
    "        output=sigmoid(output)\n",
    "    if(activation=='tanhx'):\n",
    "        output=tanhx(output)\n",
    "    if(activation=='relu'):\n",
    "        output=relu(output)\n",
    "    if(activation=='prelu'):\n",
    "        output=prelu(output)\n",
    "    print(image)\n",
    "    print(kernel)\n",
    "    print(output)\n",
    "    return output    "
   ]
  },
  {
   "cell_type": "code",
   "execution_count": 13,
   "metadata": {},
   "outputs": [
    {
     "name": "stdout",
     "output_type": "stream",
     "text": [
      "hello\n"
     ]
    }
   ],
   "source": [
    "# 2. now will will implement pooling function\n"
   ]
  }
 ],
 "metadata": {
  "kernelspec": {
   "display_name": "Python 3",
   "language": "python",
   "name": "python3"
  },
  "language_info": {
   "codemirror_mode": {
    "name": "ipython",
    "version": 3
   },
   "file_extension": ".py",
   "mimetype": "text/x-python",
   "name": "python",
   "nbconvert_exporter": "python",
   "pygments_lexer": "ipython3",
   "version": "3.10.12"
  }
 },
 "nbformat": 4,
 "nbformat_minor": 2
}
