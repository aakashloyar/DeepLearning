{
 "cells": [
  {
   "cell_type": "code",
   "execution_count": 24,
   "metadata": {},
   "outputs": [
    {
     "name": "stdout",
     "output_type": "stream",
     "text": [
      "Requirement already satisfied: numpy in /home/aakash/anaconda3/lib/python3.12/site-packages (1.26.4)\n",
      "Requirement already satisfied: matplotlib in /home/aakash/anaconda3/lib/python3.12/site-packages (3.8.4)\n",
      "Requirement already satisfied: contourpy>=1.0.1 in /home/aakash/anaconda3/lib/python3.12/site-packages (from matplotlib) (1.2.0)\n",
      "Requirement already satisfied: cycler>=0.10 in /home/aakash/anaconda3/lib/python3.12/site-packages (from matplotlib) (0.11.0)\n",
      "Requirement already satisfied: fonttools>=4.22.0 in /home/aakash/anaconda3/lib/python3.12/site-packages (from matplotlib) (4.51.0)\n",
      "Requirement already satisfied: kiwisolver>=1.3.1 in /home/aakash/anaconda3/lib/python3.12/site-packages (from matplotlib) (1.4.4)\n",
      "Requirement already satisfied: numpy>=1.21 in /home/aakash/anaconda3/lib/python3.12/site-packages (from matplotlib) (1.26.4)\n",
      "Requirement already satisfied: packaging>=20.0 in /home/aakash/anaconda3/lib/python3.12/site-packages (from matplotlib) (23.2)\n",
      "Requirement already satisfied: pillow>=8 in /home/aakash/anaconda3/lib/python3.12/site-packages (from matplotlib) (10.3.0)\n",
      "Requirement already satisfied: pyparsing>=2.3.1 in /home/aakash/anaconda3/lib/python3.12/site-packages (from matplotlib) (3.0.9)\n",
      "Requirement already satisfied: python-dateutil>=2.7 in /home/aakash/anaconda3/lib/python3.12/site-packages (from matplotlib) (2.9.0.post0)\n",
      "Requirement already satisfied: six>=1.5 in /home/aakash/anaconda3/lib/python3.12/site-packages (from python-dateutil>=2.7->matplotlib) (1.16.0)\n",
      "Requirement already satisfied: scikit-learn in /home/aakash/anaconda3/lib/python3.12/site-packages (1.4.2)\n",
      "Requirement already satisfied: numpy>=1.19.5 in /home/aakash/anaconda3/lib/python3.12/site-packages (from scikit-learn) (1.26.4)\n",
      "Requirement already satisfied: scipy>=1.6.0 in /home/aakash/anaconda3/lib/python3.12/site-packages (from scikit-learn) (1.13.1)\n",
      "Requirement already satisfied: joblib>=1.2.0 in /home/aakash/anaconda3/lib/python3.12/site-packages (from scikit-learn) (1.4.2)\n",
      "Requirement already satisfied: threadpoolctl>=2.0.0 in /home/aakash/anaconda3/lib/python3.12/site-packages (from scikit-learn) (2.2.0)\n"
     ]
    }
   ],
   "source": [
    "#installing and importing important library\n",
    "!pip install numpy\n",
    "!pip install matplotlib\n",
    "!pip install scikit-learn\n",
    "import numpy as np\n",
    "import matplotlib.pyplot as plt\n",
    "from sklearn.model_selection import train_test_split"
   ]
  },
  {
   "cell_type": "code",
   "execution_count": 34,
   "metadata": {},
   "outputs": [],
   "source": [
    "\n",
    "#in this shell we initialize the input with gaussian noise and corresponding output for each operation\n",
    "def gen_data(operation,size):\n",
    "    noise=0.5\n",
    "    X=np.array([[0,0],[0,1],[1,0],[1,1]])\n",
    "\n",
    "    if operation==\"XOR\":\n",
    "        Y=np.array([[0],[1],[1],[0]])\n",
    "    elif operation==\"AND\":\n",
    "        Y= np.array([[0],[0],[0],[1]])\n",
    "    elif operation==\"OR\":\n",
    "        Y=np.array([[0],[1],[1],[1]])\n",
    "    else:\n",
    "        raise ValueError(\"Wrong Operation\");\n",
    "    \n",
    "\n",
    "    X_gen,Y_gen=[],[]\n",
    "    for i in range(0,size):\n",
    "        ind=np.random.randint(0,4)\n",
    "        temp=X[ind]\n",
    "        x=noise*np.random.rand();\n",
    "        print(f\"{x}\");\n",
    "        temp[0]=0.456;\n",
    "        temp[1]=1.235;\n",
    "        # print(f\"Original temp before noise: {temp}\")  # Debug print\n",
    "        # temp=X[ind];\n",
    "        # temp[0]+=noise*np.random.rand();\n",
    "        # temp[1]+=noise*np.random.rand();\n",
    "        print(f\"Original temp before noise: {temp}\")  # Debug print\n",
    "\n",
    "        X_gen.append(temp);\n",
    "        Y_gen.append([Y[ind]]);\n",
    "\n",
    "    return X_gen,Y_gen\n"
   ]
  },
  {
   "cell_type": "code",
   "execution_count": 36,
   "metadata": {},
   "outputs": [
    {
     "name": "stdout",
     "output_type": "stream",
     "text": [
      "0.25661847673606575\n",
      "Original temp before noise: [0 1]\n",
      "0.27192973129380416\n",
      "Original temp before noise: [0 1]\n",
      "0.3679983191081372\n",
      "Original temp before noise: [0 1]\n",
      "0.3929158977288904\n",
      "Original temp before noise: [0 1]\n",
      "0.43911289466913334\n",
      "Original temp before noise: [0 1]\n",
      "0.4334919709356053\n",
      "Original temp before noise: [0 1]\n",
      "X=[array([0, 1]), array([0, 1]), array([0, 1]), array([0, 1]), array([0, 1]), array([0, 1])]\n",
      "Y=[[array([0])], [array([0])], [array([1])], [array([0])], [array([0])], [array([1])]]\n"
     ]
    }
   ],
   "source": [
    "X,Y=gen_data(\"XOR\",6)\n",
    "print(f'X={X}');\n",
    "print(f'Y={Y}');\n",
    "\n"
   ]
  },
  {
   "cell_type": "code",
   "execution_count": 27,
   "metadata": {},
   "outputs": [
    {
     "name": "stdout",
     "output_type": "stream",
     "text": [
      "[2.0]\n"
     ]
    }
   ],
   "source": [
    "\n",
    "x=[];\n",
    "x.append(0.5);\n",
    "x[0]+=1.5\n",
    "print(x);"
   ]
  },
  {
   "cell_type": "code",
   "execution_count": 28,
   "metadata": {},
   "outputs": [
    {
     "name": "stdout",
     "output_type": "stream",
     "text": [
      "Original temp with noise: [0.36189600249556053, 0.19292253047741637]\n",
      "Original temp with noise: [0.06678416495011508, 0.4525221761439419]\n",
      "Original temp with noise: [1.0651156301654272, 1.432966731316235]\n",
      "Original temp with noise: [0.20855465263737283, 0.13000321248874436]\n",
      "Original temp with noise: [0.4981552349521021, 0.23484113065765566]\n",
      "Original temp with noise: [0.21803140699816587, 0.2536819407371277]\n",
      "Generated X with noise: [[0.361896   0.19292253]\n",
      " [0.06678416 0.45252218]\n",
      " [1.06511563 1.43296673]\n",
      " [0.20855465 0.13000321]\n",
      " [0.49815523 0.23484113]\n",
      " [0.21803141 0.25368194]]\n",
      "Corresponding Y: [[[0]]\n",
      "\n",
      " [[0]]\n",
      "\n",
      " [[0]]\n",
      "\n",
      " [[0]]\n",
      "\n",
      " [[0]]\n",
      "\n",
      " [[0]]]\n"
     ]
    }
   ],
   "source": [
    "import numpy as np\n",
    "\n",
    "# Initialize the input with Gaussian noise and corresponding output for each operation\n",
    "def gen_data(operation, size):\n",
    "    noise = 0.5\n",
    "    X = np.array([[0, 0], [0, 1], [1, 0], [1, 1]])\n",
    "\n",
    "    if operation == \"XOR\":\n",
    "        Y = np.array([[0], [1], [1], [0]])\n",
    "    elif operation == \"AND\":\n",
    "        Y = np.array([[0], [0], [0], [1]])\n",
    "    elif operation == \"OR\":\n",
    "        Y = np.array([[0], [1], [1], [1]])\n",
    "    else:\n",
    "        raise ValueError(\"Wrong Operation\")\n",
    "    \n",
    "    X_gen, Y_gen = [], []\n",
    "    for i in range(size):\n",
    "        ind = np.random.randint(0, 4)\n",
    "        temp=[];\n",
    "        x=X[ind][0]+np.random.rand()*noise\n",
    "        y=X[ind][1]+np.random.rand()*noise\n",
    "        temp.append(x);\n",
    "        temp.append(y);\n",
    "\n",
    "        # Debug print\n",
    "        print(f\"Original temp with noise: {temp}\")  # Show noisy input\n",
    "\n",
    "        X_gen.append(temp)  # Append noisy input\n",
    "        Y_gen.append([Y[ind]])  # Keep the target output the same\n",
    "\n",
    "    return np.array(X_gen), np.array(Y_gen)\n",
    "\n",
    "# Test the function\n",
    "X_gen, Y_gen = gen_data(\"XOR\", 6)\n",
    "print(\"Generated X with noise:\", X_gen)\n",
    "print(\"Corresponding Y:\", Y_gen)\n"
   ]
  },
  {
   "cell_type": "code",
   "execution_count": 40,
   "metadata": {},
   "outputs": [
    {
     "name": "stdout",
     "output_type": "stream",
     "text": [
      "Noise: 0.4091164495487905\n",
      "int64\n",
      "Original temp after noise: [0 1]\n",
      "Noise: 0.03466276690294917\n",
      "int64\n",
      "Original temp after noise: [0 0]\n",
      "Noise: 0.3552120667911025\n",
      "int64\n",
      "Original temp after noise: [1 0]\n",
      "Noise: 0.14974703780540144\n",
      "int64\n",
      "Original temp after noise: [0 1]\n",
      "Noise: 0.2705819579358359\n",
      "int64\n",
      "Original temp after noise: [1 1]\n",
      "Noise: 0.469127343407586\n",
      "int64\n",
      "Original temp after noise: [1 1]\n",
      "X=[array([0, 1]), array([0, 0]), array([1, 0]), array([0, 1]), array([1, 1]), array([1, 1])]\n",
      "Y=[[array([1])], [array([0])], [array([1])], [array([1])], [array([0])], [array([0])]]\n"
     ]
    }
   ],
   "source": [
    "import numpy as np\n",
    "\n",
    "def gen_data(operation, size):\n",
    "    noise = 0.5\n",
    "    X = np.array([[0, 0], [0, 1], [1, 0], [1, 1]])\n",
    "\n",
    "    if operation == \"XOR\":\n",
    "        Y = np.array([[0], [1], [1], [0]])\n",
    "    elif operation == \"AND\":\n",
    "        Y = np.array([[0], [0], [0], [1]])\n",
    "    elif operation == \"OR\":\n",
    "        Y = np.array([[0], [1], [1], [1]])\n",
    "    else:\n",
    "        raise ValueError(\"Wrong Operation\")\n",
    "\n",
    "    X_gen, Y_gen = [], []\n",
    "    for i in range(size):\n",
    "        ind = np.random.randint(0, 4)\n",
    "        temp = X[ind].copy()  # Create a copy of the selected input\n",
    "        x = noise * np.random.rand()\n",
    "        print(f\"Noise: {x}\")\n",
    "        print(temp[0].dtype)\n",
    "        # Here, you can add the noise to temp if that's intended\n",
    "        temp[0] += noise * np.random.rand()\n",
    "        \n",
    "        temp[1] += noise * np.random.rand()\n",
    "        print(f\"Original temp after noise: {temp}\")  # Debug print\n",
    "\n",
    "        X_gen.append(temp)  # Append the modified copy\n",
    "        Y_gen.append([Y[ind].copy()])  # Append a copy of the output\n",
    "\n",
    "    return X_gen, Y_gen\n",
    "\n",
    "X, Y = gen_data(\"XOR\", 6)\n",
    "print(f'X={X}')\n",
    "print(f'Y={Y}')\n"
   ]
  },
  {
   "cell_type": "code",
   "execution_count": null,
   "metadata": {},
   "outputs": [],
   "source": []
  }
 ],
 "metadata": {
  "kernelspec": {
   "display_name": "Python 3 (ipykernel)",
   "language": "python",
   "name": "python3"
  },
  "language_info": {
   "codemirror_mode": {
    "name": "ipython",
    "version": 3
   },
   "file_extension": ".py",
   "mimetype": "text/x-python",
   "name": "python",
   "nbconvert_exporter": "python",
   "pygments_lexer": "ipython3",
   "version": "3.12.4"
  }
 },
 "nbformat": 4,
 "nbformat_minor": 4
}
