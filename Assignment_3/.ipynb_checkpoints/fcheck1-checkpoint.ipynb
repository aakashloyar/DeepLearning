{
 "cells": [
  {
   "cell_type": "code",
   "execution_count": 9,
   "metadata": {},
   "outputs": [
    {
     "name": "stdout",
     "output_type": "stream",
     "text": [
      "Defaulting to user installation because normal site-packages is not writeable\n",
      "Requirement already satisfied: numpy in /home/aakash/.local/lib/python3.10/site-packages (2.1.1)\n",
      "Defaulting to user installation because normal site-packages is not writeable\n",
      "Requirement already satisfied: matplotlib in /home/aakash/.local/lib/python3.10/site-packages (3.9.2)\n",
      "Requirement already satisfied: numpy>=1.23 in /home/aakash/.local/lib/python3.10/site-packages (from matplotlib) (2.1.1)\n",
      "Requirement already satisfied: kiwisolver>=1.3.1 in /home/aakash/.local/lib/python3.10/site-packages (from matplotlib) (1.4.7)\n",
      "Requirement already satisfied: python-dateutil>=2.7 in /home/aakash/.local/lib/python3.10/site-packages (from matplotlib) (2.9.0.post0)\n",
      "Requirement already satisfied: pyparsing>=2.3.1 in /usr/lib/python3/dist-packages (from matplotlib) (2.4.7)\n",
      "Requirement already satisfied: contourpy>=1.0.1 in /home/aakash/.local/lib/python3.10/site-packages (from matplotlib) (1.3.0)\n",
      "Requirement already satisfied: packaging>=20.0 in /home/aakash/.local/lib/python3.10/site-packages (from matplotlib) (24.0)\n",
      "Requirement already satisfied: cycler>=0.10 in /home/aakash/.local/lib/python3.10/site-packages (from matplotlib) (0.12.1)\n",
      "Requirement already satisfied: pillow>=8 in /usr/lib/python3/dist-packages (from matplotlib) (9.0.1)\n",
      "Requirement already satisfied: fonttools>=4.22.0 in /home/aakash/.local/lib/python3.10/site-packages (from matplotlib) (4.54.1)\n",
      "Requirement already satisfied: six>=1.5 in /usr/lib/python3/dist-packages (from python-dateutil>=2.7->matplotlib) (1.16.0)\n",
      "Defaulting to user installation because normal site-packages is not writeable\n",
      "Requirement already satisfied: scikit-learn in /home/aakash/.local/lib/python3.10/site-packages (1.5.2)\n",
      "Requirement already satisfied: joblib>=1.2.0 in /home/aakash/.local/lib/python3.10/site-packages (from scikit-learn) (1.4.2)\n",
      "Requirement already satisfied: numpy>=1.19.5 in /home/aakash/.local/lib/python3.10/site-packages (from scikit-learn) (2.1.1)\n",
      "Requirement already satisfied: threadpoolctl>=3.1.0 in /home/aakash/.local/lib/python3.10/site-packages (from scikit-learn) (3.5.0)\n",
      "Requirement already satisfied: scipy>=1.6.0 in /home/aakash/.local/lib/python3.10/site-packages (from scikit-learn) (1.14.1)\n"
     ]
    }
   ],
   "source": [
    "#installing and importing important library\n",
    "!pip install numpy\n",
    "!pip install matplotlib\n",
    "!pip install scikit-learn\n",
    "import numpy as np\n",
    "import matplotlib.pyplot as plt\n",
    "from sklearn.model_selection import train_test_split"
   ]
  },
  {
   "cell_type": "code",
   "execution_count": 10,
   "metadata": {},
   "outputs": [],
   "source": [
    "\n",
    "#in this shell we initialize the input with gaussian noise and corresponding output for each operation\n",
    "def gen_data(operation,size):\n",
    "    noise=0.5\n",
    "    X=np.array([[0,0],[0,1],[1,0],[1,1]])\n",
    "\n",
    "    if operation==\"XOR\":\n",
    "        Y=np.array([[0],[1],[1],[0]])\n",
    "    elif operation==\"AND\":\n",
    "        Y= np.array([[0],[0],[0],[1]])\n",
    "    elif operation==\"OR\":\n",
    "        Y=np.array([[0],[1],[1],[1]])\n",
    "    else:\n",
    "        raise ValueError(\"Wrong Operation\");\n",
    "    \n",
    "\n",
    "    X_gen,Y_gen=[],[]\n",
    "    for i in range(0,size):\n",
    "        ind=np.random.randint(0,4)\n",
    "        temp=np.copy(X[ind])\n",
    "        x=noise*np.random.rand();\n",
    "        print(f\"{x}\");\n",
    "        temp[0]=x;\n",
    "        # print(f\"Original temp before noise: {temp}\")  # Debug print\n",
    "        # temp=X[ind];\n",
    "        # temp[0]+=noise*np.random.rand();\n",
    "        # temp[1]+=noise*np.random.rand();\n",
    "        print(f\"Original temp before noise: {temp}\")  # Debug print\n",
    "\n",
    "        X_gen.append(temp);\n",
    "        Y_gen.append([Y[ind]]);\n",
    "\n",
    "    return X_gen,Y_gen\n"
   ]
  },
  {
   "cell_type": "code",
   "execution_count": 11,
   "metadata": {},
   "outputs": [
    {
     "name": "stdout",
     "output_type": "stream",
     "text": [
      "0.27885624260855063\n",
      "Original temp before noise: [0 1]\n",
      "0.10689877426111877\n",
      "Original temp before noise: [0 0]\n",
      "0.004234079639340693\n",
      "Original temp before noise: [0 0]\n",
      "0.04766256111745992\n",
      "Original temp before noise: [0 1]\n",
      "0.28140599220861084\n",
      "Original temp before noise: [0 1]\n",
      "0.2628351902265879\n",
      "Original temp before noise: [0 0]\n",
      "X=[array([0, 1]), array([0, 0]), array([0, 0]), array([0, 1]), array([0, 1]), array([0, 0])]\n",
      "Y=[[array([1])], [array([1])], [array([0])], [array([0])], [array([1])], [array([0])]]\n"
     ]
    }
   ],
   "source": [
    "X,Y=gen_data(\"XOR\",6)\n",
    "print(f'X={X}');\n",
    "print(f'Y={Y}');\n",
    "\n"
   ]
  },
  {
   "cell_type": "code",
   "execution_count": 12,
   "metadata": {},
   "outputs": [
    {
     "name": "stdout",
     "output_type": "stream",
     "text": [
      "[2.0]\n"
     ]
    }
   ],
   "source": [
    "\n",
    "x=[];\n",
    "x.append(0.5);\n",
    "x[0]+=1.5\n",
    "print(x);"
   ]
  },
  {
   "cell_type": "code",
   "execution_count": 14,
   "metadata": {},
   "outputs": [
    {
     "name": "stdout",
     "output_type": "stream",
     "text": [
      "Original temp with noise: [np.float64(0.032715980747536344), np.float64(0.010276825570422587)]\n",
      "Original temp with noise: [np.float64(0.277071451516605), np.float64(0.10775126890689884)]\n",
      "Original temp with noise: [np.float64(1.0725909462108778), np.float64(1.0627589785542362)]\n",
      "Original temp with noise: [np.float64(1.2346438075466482), np.float64(1.0335925616000265)]\n",
      "Original temp with noise: [np.float64(1.1966562240719976), np.float64(0.1300847966272568)]\n",
      "Original temp with noise: [np.float64(1.064844946309449), np.float64(1.355914125768943)]\n",
      "Generated X with noise: [[0.03271598 0.01027683]\n",
      " [0.27707145 0.10775127]\n",
      " [1.07259095 1.06275898]\n",
      " [1.23464381 1.03359256]\n",
      " [1.19665622 0.1300848 ]\n",
      " [1.06484495 1.35591413]]\n",
      "Corresponding Y: [[[0]]\n",
      "\n",
      " [[0]]\n",
      "\n",
      " [[0]]\n",
      "\n",
      " [[0]]\n",
      "\n",
      " [[1]]\n",
      "\n",
      " [[0]]]\n"
     ]
    }
   ],
   "source": [
    "import numpy as np\n",
    "\n",
    "# Initialize the input with Gaussian noise and corresponding output for each operation\n",
    "def gen_data(operation, size):\n",
    "    noise = 0.5\n",
    "    X = np.array([[0, 0], [0, 1], [1, 0], [1, 1]])\n",
    "\n",
    "    if operation == \"XOR\":\n",
    "        Y = np.array([[0], [1], [1], [0]])\n",
    "    elif operation == \"AND\":\n",
    "        Y = np.array([[0], [0], [0], [1]])\n",
    "    elif operation == \"OR\":\n",
    "        Y = np.array([[0], [1], [1], [1]])\n",
    "    else:\n",
    "        raise ValueError(\"Wrong Operation\")\n",
    "    \n",
    "    X_gen, Y_gen = [], []\n",
    "    for i in range(size):\n",
    "        ind = np.random.randint(0, 4)\n",
    "        temp=[];\n",
    "        x=X[ind][0]+np.random.rand()*noise\n",
    "        y=X[ind][1]+np.random.rand()*noise\n",
    "        temp.append(x);\n",
    "        temp.append(y);\n",
    "\n",
    "        # Debug print\n",
    "        print(f\"Original temp with noise: {temp}\")  # Show noisy input\n",
    "\n",
    "        X_gen.append(temp)  # Append noisy input\n",
    "        Y_gen.append([Y[ind]])  # Keep the target output the same\n",
    "\n",
    "    return np.array(X_gen), np.array(Y_gen)\n",
    "\n",
    "# Test the function\n",
    "X_gen, Y_gen = gen_data(\"XOR\", 6)\n",
    "print(\"Generated X with noise:\", X_gen)\n",
    "print(\"Corresponding Y:\", Y_gen)\n"
   ]
  }
 ],
 "metadata": {
  "kernelspec": {
   "display_name": "Python 3",
   "language": "python",
   "name": "python3"
  },
  "language_info": {
   "codemirror_mode": {
    "name": "ipython",
    "version": 3
   },
   "file_extension": ".py",
   "mimetype": "text/x-python",
   "name": "python",
   "nbconvert_exporter": "python",
   "pygments_lexer": "ipython3",
   "version": "3.10.12"
  }
 },
 "nbformat": 4,
 "nbformat_minor": 2
}
