{
 "cells": [
  {
   "cell_type": "code",
   "execution_count": 185,
   "id": "e109b861-bbdc-4383-951a-92de9b1c0c6f",
   "metadata": {},
   "outputs": [],
   "source": [
    "import numpy as np;\n",
    "import cv2;\n",
    "import matplotlib.pyplot as plt;"
   ]
  },
  {
   "cell_type": "markdown",
   "id": "14b5c992-b327-42f3-8c0f-511f54e88469",
   "metadata": {},
   "source": [
    "1. Distance between PDFs: In this question you will explore the other “distances” between PDFs dis-\n",
    "cussed in class. To verify the implementation of these distances, use the normalized histogram of the\n",
    "stereo image pair (left.png, right.png) used in the previous assignment."
   ]
  },
  {
   "cell_type": "markdown",
   "id": "e132b7ad-716d-4fd0-803a-a6d8d76af108",
   "metadata": {},
   "source": [
    "(a) Cross Entropy (CE): The cross entropy between two PDFs (PMFs) p and q is given by: H(p, q) =\n",
    "H(p) + D(p||q) where H(p) is the entropy of p and D(p||q) is the KL divergence between p and\n",
    "q. Write a function that accepts two PDFs (PMFs) p, q and outputs the CE between them."
   ]
  },
  {
   "cell_type": "code",
   "execution_count": 189,
   "id": "c243c866-0ce5-460e-b78a-5b11f32f9acf",
   "metadata": {},
   "outputs": [],
   "source": [
    "# Code For H(p,q)\n",
    "#H(p,q)=-(summation)p(i)log(qi)\n",
    "# here p is true distribution and q is predicted distribution\n",
    "# and H(p,q) is distance to encode p from q\n",
    "def Cross_Entropy(p,q):\n",
    "    # if(len(p)!=len(q)):\n",
    "    #     raise ValueError(\"Dimension of both p and q must be equal.\")\n",
    "    # print(f'{len(p)}');\n",
    "    # print(f'{len(q)}');\n",
    "    if(np.sum(p)!=1 or np.sum(q)!=1):\n",
    "        raise ValueError(\"PMF must sum to 1.\")\n",
    "    p=p[p>0]\n",
    "    q=q[q>0]\n",
    "    # print(f'{len(p)}');\n",
    "    # print(f'{len(q)}');\n",
    "    return -np.sum(p*np.log2(q));"
   ]
  },
  {
   "cell_type": "code",
   "execution_count": 191,
   "id": "d31582d3-83c7-45d1-9e8f-e3aaf59232a9",
   "metadata": {},
   "outputs": [],
   "source": [
    "#Entropy of true distribution\n",
    "def Entropy(p):\n",
    "    # if(np.any(p)<=0):\n",
    "    #     raise ValueError(\"PMF must not contain negative-value.\")\n",
    "    if(np.sum(p)!=1):\n",
    "        raise ValueError(\"PMF must sum to 1.\")\n",
    "    p=p[p>0];    \n",
    "    return -np.sum(p*np.log2(p));"
   ]
  },
  {
   "cell_type": "code",
   "execution_count": 193,
   "id": "6684be54-8a58-41f2-98aa-0477645df9b2",
   "metadata": {},
   "outputs": [],
   "source": [
    "#Relative Entropy(KL Divergence)\n",
    "#Dkl(p||q)=-(summation)(p(i)*log(p(i)/q(i)))\n",
    "#Measues how much q diverges from p\n",
    "def KL_Divergence(p,q):\n",
    "    # if(len(p)!=len(q)):\n",
    "    #     raise ValueError(\"Dimension of both p and q must be equal.\")\n",
    "    \n",
    "    if(np.sum(p)!=1 or np.sum(q)!=1):\n",
    "        raise ValueError(\"PMF must sum to 1.\")\n",
    "    p=p[p>0]\n",
    "    q=q[q>0]    \n",
    "    return np.sum(p*np.log2(p/q));"
   ]
  },
  {
   "cell_type": "markdown",
   "id": "cd9b4679-21be-4e16-946e-afeed8ed77cb",
   "metadata": {},
   "source": [
    "i. Verify your function using the stereo image normalized histogram pair. (1)"
   ]
  },
  {
   "cell_type": "code",
   "execution_count": 196,
   "id": "5c986a62-def8-4bd3-8065-e2d89fd59694",
   "metadata": {},
   "outputs": [],
   "source": [
    "def normalized_histogram(image_path):\n",
    "    # image=cv2.imread('image_path',cv2.IMREAD_GRAYSCALE);\n",
    "    image = cv2.imread(image_path, cv2.IMREAD_GRAYSCALE)\n",
    "    image_array=np.array(image);\n",
    "    # print(image_array);\n",
    "    histogram,_=np.histogram(image_array,bins=256,range=(0,256));\n",
    "    image_size=image_array.size;\n",
    "    # print(f'{image_size}')\n",
    "    norm_histogram=histogram / image_size;\n",
    "    return norm_histogram;"
   ]
  },
  {
   "cell_type": "code",
   "execution_count": 198,
   "id": "a0ea3cf3-ccba-4beb-8fd0-0df69537a6a0",
   "metadata": {},
   "outputs": [
    {
     "name": "stdout",
     "output_type": "stream",
     "text": [
      "H(p,q)=7.273398119987325\n",
      "H(p)=7.258294104749939\n",
      "K(p||q)=0.015104015237387056\n",
      "H(p)+(D(p||q))=7.273398119987326\n",
      "H(p)+(D(p||q)-H(p,q))=0.00000000\n",
      "H(p,q)=H(p)+D(p||q)\n",
      "Hence verified\n"
     ]
    }
   ],
   "source": [
    "#Now Going step-by-step\n",
    "#Step1 Taking Input of image\n",
    "\n",
    "right_IP='./right.png'\n",
    "left_IP='./left.png'\n",
    "\n",
    "#let us take left as true\n",
    "#so p=left and q=right(perdicted)\n",
    "p=normalized_histogram(left_IP);\n",
    "q=normalized_histogram(right_IP);\n",
    "# print(f'{hist1}')\n",
    "\n",
    "#H(p,q)\n",
    "CE=Cross_Entropy(p,q);\n",
    "\n",
    "# #H(p)\n",
    "entropy=Entropy(hist1);\n",
    "\n",
    "# #D(p||q)\n",
    "KL=KL_Divergence(p,q);\n",
    "\n",
    "print(f'H(p,q)={CE}')\n",
    "print(f'H(p)={entropy}');\n",
    "print(f'K(p||q)={KL}');\n",
    "\n",
    "print(f'H(p)+(D(p||q))={KL+entropy}')\n",
    "print(f'H(p)+(D(p||q)-H(p,q))={KL+entropy-CE:.8f}')\n",
    "print('H(p,q)=H(p)+D(p||q)')\n",
    "print('Hence verified')\n"
   ]
  },
  {
   "cell_type": "markdown",
   "id": "67710ce9-66d9-424f-9907-29574510d55c",
   "metadata": {},
   "source": []
  },
  {
   "cell_type": "markdown",
   "id": "9fe2599e-84da-4a39-9eb0-eef312d301dd",
   "metadata": {},
   "source": [
    "ii. As with the KL divergence problem, choose a fixed PMF p ∼ Bern(r). Choose another PMF\n",
    "q ∼ Bern(s) where s can be varied. Plot H(p, q) as a function of s. From the plot, does\n",
    "minimizing H(p, q) give us matched PMFs? (1)"
   ]
  },
  {
   "cell_type": "code",
   "execution_count": 202,
   "id": "10839a2e-8a00-4bc2-9c55-5d4705ff6b20",
   "metadata": {},
   "outputs": [],
   "source": [
    "#Cross Entropy of Bernouli\n",
    "#H(p,q)=-plog(q)-(1-p)log(1-q)\n",
    "def Bernouli_Cross_Entropy(p,q):\n",
    "    return -p*np.log2(q)-(1-p)*np.log2(1-q);"
   ]
  },
  {
   "cell_type": "code",
   "execution_count": 235,
   "id": "e93712e6-91a3-4eb3-ae20-da87248603e6",
   "metadata": {},
   "outputs": [
    {
     "data": {
      "image/png": "[encoded data removed]",
      "text/plain": [
       "<Figure size 640x480 with 1 Axes>"
      ]
     },
     "metadata": {},
     "output_type": "display_data"
    },
    {
     "name": "stdout",
     "output_type": "stream",
     "text": [
      "From above Graph we can see that H(p,q) is minimum when s=r\n",
      "Hence verified\n"
     ]
    }
   ],
   "source": [
    "#fixed r\n",
    "r=0.6\n",
    "#vary s\n",
    "s=np.arange(0.001,1,0.001);\n",
    "arr=[];\n",
    "for i in s:\n",
    "    x=Bernouli_Cross_Entropy(r,i)\n",
    "    arr.append(x)\n",
    "min_index = np.argmin(arr)\n",
    "min_x=s[min_index]\n",
    "min_y=arr[min_index]\n",
    "plt.plot(s,arr,label='H(p,q) vs s');\n",
    "plt.scatter(min_x,min_y ,color='red',label=f'Min value at s={min_x}, H(p,q)={min_y:.2f}')\n",
    "plt.title=\"H(p,q) vs s\"\n",
    "plt.xlabel=\"s\"\n",
    "plt.ylabel=\"H(p,q)\"\n",
    "plt.legend()\n",
    "plt.show();\n",
    "print('From above Graph we can see that H(p,q) is minimum when s=r');\n",
    "print('Hence verified')"
   ]
  },
  {
   "cell_type": "markdown",
   "id": "cef23251-ca17-4f83-a6c8-58ef865ccf37",
   "metadata": {},
   "source": []
  },
  {
   "cell_type": "markdown",
   "id": "6b3f12c9-6106-4982-8a7f-8a730e4e5d8c",
   "metadata": {},
   "source": [
    "(b) Jensen Shannon (JS) Divergence: The definition of JS divergence between two PDFs p and q is\n",
    "given by: J(p, q) = 0.5 ∗ (D(p||m) + D(q||m)) where m =(p+q)/2 and D(p||q) is the KL divergence between p and q. Write a function that accepts two PDFs (PMFs) p, q and outputs the JS divergence between them. Verify that the JS(p, q) is symmetric indeed while D(p||q) is not. Again,use the normalized histograms of the stereo image pair."
   ]
  },
  {
   "cell_type": "code",
   "execution_count": 237,
   "id": "bd923c3d-6f79-4478-96fa-b3a50e23762d",
   "metadata": {},
   "outputs": [],
   "source": [
    "#so now Let use write code for JS Divergence\n",
    "# as JS(p||q)=(KL(p||m)+KL(q||m))/2 where m=(p+q)/2\n",
    "def JS_Divergence(p,q):\n",
    "    # if(len(p)!=len(q)):\n",
    "    #     raise ValueError(\"Dimension of both p and q must be equal.\")\n",
    "    m=(p+q)/2;\n",
    "    return (KL_Divergence(p,m)+KL_Divergence(q,m));"
   ]
  },
  {
   "cell_type": "code",
   "execution_count": 247,
   "id": "84d798c1-0e52-4bc7-adf2-b2ea7078ef2f",
   "metadata": {},
   "outputs": [
    {
     "name": "stdout",
     "output_type": "stream",
     "text": [
      "KL(p||q)-KL(q||p)= 0.0006942294040325793\n",
      "JS(p||q)-JS(q||p)= 0.0\n",
      "Hence JS_Div is symmetric while KL_Div is not\n"
     ]
    }
   ],
   "source": [
    "# now taking the image histogram input\n",
    "right_IP='./right.png'\n",
    "left_IP='./left.png'\n",
    "\n",
    "p=normalized_histogram(left_IP);\n",
    "q=normalized_histogram(right_IP);\n",
    "#D(p||q)\n",
    "d1=KL_Divergence(p,q);\n",
    "#D(q||p)\n",
    "d2=KL_Divergence(q,p);\n",
    "print(f'KL(p||q)-KL(q||p)= {d1-d2}')\n",
    "#JS(p||q)\n",
    "j1=JS_Divergence(p,q);\n",
    "#JS(q||p)\n",
    "j2=JS_Divergence(q,p);\n",
    "print(f'JS(p||q)-JS(q||p)= {j1-j2}')\n",
    "print('Hence JS_Div is symmetric while KL_Div is not');"
   ]
  },
  {
   "cell_type": "markdown",
   "id": "7e20a9cd-1923-40af-afd2-406cc67df3f4",
   "metadata": {},
   "source": []
  },
  {
   "cell_type": "markdown",
   "id": "9fa6e2b8-74fe-41ab-8251-429940677d5b",
   "metadata": {},
   "source": [
    "(c) Wasserstein Distance: The Wasserstein-1 distance between two PDFs r and s is given by: W1(r,s) =\n",
    "inf   E(x,y)∼π|x − y|. \n",
    "π∈Π(r,s)\n",
    "\n",
    "\n",
    "The set Π(r,s) is composed of all bivariate joint PDFs whose marginals\n",
    "equal r and s. Given a tuple (p(X,Y),rX,sY) of a joint histogram p(X,Y) and marginals rX,sY,\n",
    "write a function that accepts this tuple and checks if pX,Y ∈ Π(r,s). Verify your function with a\n",
    "positive example and a negative example."
   ]
  },
  {
   "cell_type": "code",
   "execution_count": 272,
   "id": "92bb5c71-f753-46dd-a96f-1cd603ee5219",
   "metadata": {},
   "outputs": [],
   "source": [
    "# Check_Joint_Marginals function that give that a given pmf satifies the marginals or not\n",
    "def Check_Joint_Marginals(p,r,s):\n",
    "    #marginal row\n",
    "    mar_row=np.sum(p,axis=1)\n",
    "    #margina column\n",
    "    mar_col=np.sum(p,axis=0)\n",
    "    return np.allclose(mar_row,r) and np.allclose(mar_col,s);"
   ]
  },
  {
   "cell_type": "code",
   "execution_count": 274,
   "id": "146d6d0e-b857-477c-870a-ab10e2d753d6",
   "metadata": {},
   "outputs": [
    {
     "name": "stdout",
     "output_type": "stream",
     "text": [
      "True\n",
      "False\n"
     ]
    }
   ],
   "source": [
    "# Example positive case (valid joint distribution)\n",
    "\n",
    "# Joint distribution\n",
    "p1 = np.array([[0.1, 0.2], [0.3, 0.4]]) \n",
    "# Marginal of X\n",
    "r1 = np.array([0.3, 0.7])  \n",
    "# Marginal of Y\n",
    "s1 = np.array([0.4, 0.6]) \n",
    "\n",
    "\n",
    "\n",
    "# Example negative case (invalid joint distribution)\n",
    "\n",
    "# Joint distribution\n",
    "p2 = np.array([[0.1, 0.2], [0.3, 0.4]])  \n",
    "# Marginal of X\n",
    "r2 = np.array([0.4, 0.6])  \n",
    "# Marginal of Y\n",
    "s2 = np.array([0.5, 0.5])  \n",
    "\n",
    "print(Check_Joint_Marginals(p1, r1, s1))  \n",
    "# Expected: True\n",
    "\n",
    "print(Check_Joint_Marginals(p2, r2, s2))  \n",
    "# Expected: False"
   ]
  },
  {
   "cell_type": "code",
   "execution_count": null,
   "id": "bc40aa66-a4a8-444c-ad27-25ac8de89baa",
   "metadata": {},
   "outputs": [],
   "source": []
  }
 ],
 "metadata": {
  "kernelspec": {
   "display_name": "Python 3 (ipykernel)",
   "language": "python",
   "name": "python3"
  },
  "language_info": {
   "codemirror_mode": {
    "name": "ipython",
    "version": 3
   },
   "file_extension": ".py",
   "mimetype": "text/x-python",
   "name": "python",
   "nbconvert_exporter": "python",
   "pygments_lexer": "ipython3",
   "version": "3.12.4"
  }
 },
 "nbformat": 4,
 "nbformat_minor": 5
}
